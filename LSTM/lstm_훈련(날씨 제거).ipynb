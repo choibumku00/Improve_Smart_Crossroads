{
  "nbformat": 4,
  "nbformat_minor": 0,
  "metadata": {
    "colab": {
      "private_outputs": true,
      "provenance": [],
      "gpuType": "T4"
    },
    "kernelspec": {
      "name": "python3",
      "display_name": "Python 3"
    },
    "language_info": {
      "name": "python"
    },
    "accelerator": "GPU"
  },
  "cells": [
    {
      "cell_type": "code",
      "execution_count": null,
      "metadata": {
        "id": "9yIX1SC7OaYs"
      },
      "outputs": [],
      "source": [
        "from google.colab import drive\n",
        "import pandas as pd\n",
        "import matplotlib.pyplot as plt\n",
        "import numpy as np\n",
        "from tensorflow.keras.models import Model\n",
        "from tensorflow.keras.layers import Input, LSTM, Dense, Bidirectional, Dropout,Layer,GRU, BatchNormalization,RNN,SimpleRNN\n",
        "from tensorflow.keras.optimizers import Adam,SGD\n",
        "import tensorflow.keras.backend as K\n",
        "from tensorflow.keras import initializers\n",
        "drive.mount('/content/drive')\n"
      ]
    },
    {
      "cell_type": "code",
      "source": [
        "import pickle\n",
        "with open('//content/drive/MyDrive/Colab Notebooks/lstm_train_X.pkl', 'rb') as f:\n",
        "    new_train_X=pickle.load(f)\n",
        "with open('/content/drive/MyDrive/Colab Notebooks/lstm_train_y.pkl', 'rb') as f:\n",
        "    new_train_y=pickle.load(f)\n",
        "with open('/content/drive/MyDrive/Colab Notebooks/lstm_val_X.pkl', 'rb') as f:\n",
        "    new_val_X=pickle.load(f)\n",
        "with open('/content/drive/MyDrive/Colab Notebooks/lstm_val_y.pkl', 'rb') as f:\n",
        "    new_val_y=pickle.load(f)\n"
      ],
      "metadata": {
        "id": "Ud8zNGLBOfO6"
      },
      "execution_count": null,
      "outputs": []
    },
    {
      "cell_type": "code",
      "source": [
        "train_X = np.array(new_train_X[:,:,:17])\n",
        "val_X = np.array(new_val_X[:,:,:17])"
      ],
      "metadata": {
        "id": "mEkItgOzJk7z"
      },
      "execution_count": null,
      "outputs": []
    },
    {
      "cell_type": "code",
      "source": [
        "import tensorflow as tf\n",
        "\n",
        "device_name = tf.test.gpu_device_name()\n",
        "if device_name != '/device:GPU:0':\n",
        "  raise SystemError('GPU device not found')\n",
        "print('Found GPU at: {}'.format(device_name))"
      ],
      "metadata": {
        "id": "bW0NU3IxOnni"
      },
      "execution_count": null,
      "outputs": []
    },
    {
      "cell_type": "code",
      "source": [
        "class TemporalAttentionLayer(Layer):\n",
        "    def __init__(self, **kwargs):\n",
        "        super(TemporalAttentionLayer, self).__init__(**kwargs)\n",
        "\n",
        "    def build(self, input_shape):\n",
        "        self.W = self.add_weight(name='attention_weight',\n",
        "                                 shape=(input_shape[-1], 1),\n",
        "                                 initializer=initializers.he_normal(),\n",
        "                                 trainable=True)\n",
        "        super(TemporalAttentionLayer, self).build(input_shape)\n",
        "\n",
        "    def call(self, x):\n",
        "        e = K.tanh(K.dot(x, self.W))\n",
        "        alpha = K.softmax(e, axis=1)\n",
        "        # 변경: 원래 시퀀스와 가중치를 곱하여 출력 형태를 유지\n",
        "        context = x * alpha\n",
        "        return context\n",
        "\n",
        "    def compute_output_shape(self, input_shape):\n",
        "        return input_shape\n"
      ],
      "metadata": {
        "id": "fkkM0zqTxIyn"
      },
      "execution_count": null,
      "outputs": []
    },
    {
      "cell_type": "code",
      "source": [
        "# 모델 구성을 위한 입력 정의\n",
        "input_layer = Input(shape=(24, 17))\n",
        "\n",
        "# 양방향 LSTM 레이어\n",
        "x = Bidirectional(LSTM(1000, return_sequences=True, activation='tanh'))(input_layer)\n",
        "x = Bidirectional(LSTM(500, return_sequences=True, activation='tanh'))(x)\n",
        "#x = Bidirectional(LSTM(500, return_sequences=True, activation='tanh'))(x)\n",
        "x = Bidirectional(LSTM(100, activation='tanh'))(x)\n",
        "\n",
        "# 완전 연결 레이어\n",
        "x = Dense(2048, activation='relu')(x)\n",
        "x = Dense(1024, activation='relu')(x)\n",
        "x = Dense(1024, activation='relu')(x)\n",
        "x = Dense(512, activation='relu')(x)\n",
        "x = Dense(512, activation='relu')(x)\n",
        "x = Dense(256, activation='relu')(x)\n",
        "x = Dense(256, activation='relu')(x)\n",
        "x = Dense(128, activation='relu')(x)\n",
        "x = Dense(64, activation='relu')(x)\n",
        "\n",
        "# 출력 레이어\n",
        "output_layer = Dense(16)(x)\n",
        "\n",
        "# 모델 생성\n",
        "model = Model(inputs=input_layer, outputs=output_layer)\n",
        "model.compile(optimizer=Adam(learning_rate=0.001), loss='mse')\n",
        "\n",
        "# 모델 구조 시각화\n",
        "#plot_model(model, to_file='improved_model_plot.png', show_shapes=True, show_layer_names=True)"
      ],
      "metadata": {
        "id": "IoBqe2F-XUNj"
      },
      "execution_count": null,
      "outputs": []
    },
    {
      "cell_type": "code",
      "source": [
        "'''\n",
        "input_layer = Input(shape=(24, 24))\n",
        "\n",
        "x = SimpleRNN(1000, return_sequences=True, activation='tanh')(input_layer)\n",
        "\n",
        "# 두 번째 단방향 RNN 레이어\n",
        "# 두 번째 RNN 레이어에서는 return_sequences=True를 제거하여 최종 출력만 생성합니다.\n",
        "x = SimpleRNN(500, activation='tanh')(x)\n",
        "# 완전 연결 레이어\n",
        "x = Dense(1024, activation='relu')(x)\n",
        "x = Dense(512, activation='relu')(x)\n",
        "x = Dense(256, activation='relu')(x)\n",
        "x = Dense(128, activation='relu')(x)\n",
        "x = Dense(64, activation='relu')(x)\n",
        "\n",
        "# 출력 레이어\n",
        "output_layer = Dense(16)(x)\n",
        "\n",
        "# 모델 생성\n",
        "model = Model(inputs=input_layer, outputs=output_layer)\n",
        "model.compile(optimizer=Adam(learning_rate=0.001), loss='mse')\n",
        "'''"
      ],
      "metadata": {
        "id": "UJ_EJOxqNZIP"
      },
      "execution_count": null,
      "outputs": []
    },
    {
      "cell_type": "code",
      "source": [
        "from keras.callbacks import EarlyStopping, ReduceLROnPlateau,ModelCheckpoint\n",
        "\n",
        "early_stopping = EarlyStopping(monitor='val_loss', patience=100)\n",
        "checkpoint = ModelCheckpoint('best_model.h5', save_best_only=True, monitor='val_loss', mode='min')\n",
        "\n",
        "model_his = model.fit(\n",
        "    train_X,\n",
        "    new_train_y,\n",
        "    callbacks=[early_stopping, checkpoint],\n",
        "    validation_data=(val_X, new_val_y),\n",
        "    epochs=300,\n",
        "    batch_size=128,\n",
        "    shuffle=False\n",
        ")"
      ],
      "metadata": {
        "id": "SCmGsfEVhLgk"
      },
      "execution_count": null,
      "outputs": []
    },
    {
      "cell_type": "code",
      "source": [
        "plt.figure(figsize=(24, 6))\n",
        "plt.plot(model_his.history['loss'][3:], label='Training_loss')\n",
        "plt.plot(model_his.history['val_loss'][3:], label='Validation_loss')\n",
        "plt.xlabel('Epochs')\n",
        "plt.ylabel('Loss')\n",
        "plt.legend()\n",
        "plt.savefig('Loss.png')\n",
        "plt.show()\n",
        "#model.save('lstm_model.h5')"
      ],
      "metadata": {
        "id": "KyCcXxTpQGNR"
      },
      "execution_count": null,
      "outputs": []
    },
    {
      "cell_type": "code",
      "source": [
        "from keras.models import load_model\n",
        "\n",
        "model = load_model('best_model.h5', custom_objects={'TemporalAttentionLayer': TemporalAttentionLayer})\n",
        "loss = model.evaluate(val_X, new_val_y)\n",
        "loss"
      ],
      "metadata": {
        "id": "knYFJiIphMUH"
      },
      "execution_count": null,
      "outputs": []
    },
    {
      "cell_type": "code",
      "source": [
        "from tensorflow.keras.utils import plot_model\n",
        "plot_model(model, to_file='model.png', show_shapes=True, show_layer_names=True)\n"
      ],
      "metadata": {
        "id": "zkLiWp_8QsNC"
      },
      "execution_count": null,
      "outputs": []
    },
    {
      "cell_type": "code",
      "source": [
        "model = tf.keras.models.load_model('/content/lstm_model.h5', custom_objects={'TemporalAttentionLayer': TemporalAttentionLayer})\n",
        "loss = model.evaluate(new_val_X,new_val_y)\n",
        "loss"
      ],
      "metadata": {
        "id": "HKYOtppf2ntn"
      },
      "execution_count": null,
      "outputs": []
    },
    {
      "cell_type": "code",
      "source": [
        "model = tf.keras.models.load_model('/content/lstm_best_model.h5')\n",
        "loss = model.evaluate(new_val_X,new_val_y)\n",
        "loss"
      ],
      "metadata": {
        "id": "W8MFHX6D2lG2"
      },
      "execution_count": null,
      "outputs": []
    }
  ]
}